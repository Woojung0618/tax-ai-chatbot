{
 "cells": [
  {
   "cell_type": "markdown",
   "metadata": {},
   "source": [
    "# 1. 패키지 설치"
   ]
  },
  {
   "cell_type": "code",
   "execution_count": null,
   "metadata": {},
   "outputs": [],
   "source": [
    "%pip install langchain-openai python-dotenv"
   ]
  },
  {
   "cell_type": "code",
   "execution_count": 79,
   "metadata": {},
   "outputs": [
    {
     "data": {
      "text/plain": [
       "True"
      ]
     },
     "execution_count": 79,
     "metadata": {},
     "output_type": "execute_result"
    }
   ],
   "source": [
    "from dotenv import load_dotenv\n",
    "load_dotenv()"
   ]
  },
  {
   "cell_type": "code",
   "execution_count": 80,
   "metadata": {},
   "outputs": [],
   "source": [
    "from langchain_openai import ChatOpenAI\n",
    "\n",
    "llm = ChatOpenAI()"
   ]
  },
  {
   "cell_type": "code",
   "execution_count": 81,
   "metadata": {},
   "outputs": [
    {
     "data": {
      "text/plain": [
       "AIMessage(content='소득세법은 국내에서 발생하는 소득에 대해 과세하는 법률입니다. 국가의 재정 수입원 중 하나인 소득세는 근로 소득, 사업 소득, 이자 소득, 배당소득 등 다양한 소득에 부과됩니다.\\n\\n소득세를 계산할 때는 해당 소득과 관련된 공제 항목을 고려하여 실제로 납부할 세액을 결정하게 됩니다. 또한 소득세율은 소득의 양에 따라 차등적으로 적용되며, 일정 기준 이하의 소득에는 비과세 지정이나 세액 감면 혜택을 받을 수 있는 경우도 있습니다.\\n\\n소득세법은 국가의 재정 운영을 위한 중요한 법률로, 소득 세액을 신고하고 납부하는 과정에서는 법률에 따라 세무 당국의 지침을 준수해야 합니다.세법에 따른 세무 행정이나 세무청의 세무조사에 부합하지 않을 경우 벌금이나 형사 처벌을 받을 수도 있으니 주의가 필요합니다.', additional_kwargs={'refusal': None}, response_metadata={'token_usage': {'completion_tokens': 374, 'prompt_tokens': 22, 'total_tokens': 396, 'completion_tokens_details': {'accepted_prediction_tokens': 0, 'audio_tokens': 0, 'reasoning_tokens': 0, 'rejected_prediction_tokens': 0}, 'prompt_tokens_details': {'audio_tokens': 0, 'cached_tokens': 0}}, 'model_name': 'gpt-3.5-turbo-0125', 'system_fingerprint': None, 'id': 'chatcmpl-BdW3c7pzdFBqUmqrZgi0O0nFzavje', 'service_tier': 'default', 'finish_reason': 'stop', 'logprobs': None}, id='run--7df6e8cf-3750-46bb-87da-bd5bf5a8b5fb-0', usage_metadata={'input_tokens': 22, 'output_tokens': 374, 'total_tokens': 396, 'input_token_details': {'audio': 0, 'cache_read': 0}, 'output_token_details': {'audio': 0, 'reasoning': 0}})"
      ]
     },
     "execution_count": 81,
     "metadata": {},
     "output_type": "execute_result"
    }
   ],
   "source": [
    "llm.invoke(\"소득세법에 대해 알려줘\")"
   ]
  },
  {
   "cell_type": "code",
   "execution_count": 82,
   "metadata": {},
   "outputs": [
    {
     "name": "stdout",
     "output_type": "stream",
     "text": [
      "Note: you may need to restart the kernel to use updated packages.\n",
      "Note: you may need to restart the kernel to use updated packages.\n",
      "Note: you may need to restart the kernel to use updated packages.\n",
      "Requirement already satisfied: langchain-chroma in /Users/woojung/.pyenv/versions/3.10.17/envs/inflearn-llm-application/lib/python3.10/site-packages (0.2.3)\n",
      "Requirement already satisfied: langchain-core>=0.3.52 in /Users/woojung/.pyenv/versions/3.10.17/envs/inflearn-llm-application/lib/python3.10/site-packages (from langchain-chroma) (0.3.63)\n",
      "Requirement already satisfied: numpy>=1.26.0 in /Users/woojung/.pyenv/versions/3.10.17/envs/inflearn-llm-application/lib/python3.10/site-packages (from langchain-chroma) (2.2.5)\n",
      "Requirement already satisfied: chromadb!=0.5.10,!=0.5.11,!=0.5.12,!=0.5.4,!=0.5.5,!=0.5.7,!=0.5.9,<0.7.0,>=0.4.0 in /Users/woojung/.pyenv/versions/3.10.17/envs/inflearn-llm-application/lib/python3.10/site-packages (from langchain-chroma) (0.6.3)\n",
      "Requirement already satisfied: build>=1.0.3 in /Users/woojung/.pyenv/versions/3.10.17/envs/inflearn-llm-application/lib/python3.10/site-packages (from chromadb!=0.5.10,!=0.5.11,!=0.5.12,!=0.5.4,!=0.5.5,!=0.5.7,!=0.5.9,<0.7.0,>=0.4.0->langchain-chroma) (1.2.2.post1)\n",
      "Requirement already satisfied: pydantic>=1.9 in /Users/woojung/.pyenv/versions/3.10.17/envs/inflearn-llm-application/lib/python3.10/site-packages (from chromadb!=0.5.10,!=0.5.11,!=0.5.12,!=0.5.4,!=0.5.5,!=0.5.7,!=0.5.9,<0.7.0,>=0.4.0->langchain-chroma) (2.11.4)\n",
      "Requirement already satisfied: chroma-hnswlib==0.7.6 in /Users/woojung/.pyenv/versions/3.10.17/envs/inflearn-llm-application/lib/python3.10/site-packages (from chromadb!=0.5.10,!=0.5.11,!=0.5.12,!=0.5.4,!=0.5.5,!=0.5.7,!=0.5.9,<0.7.0,>=0.4.0->langchain-chroma) (0.7.6)\n",
      "Requirement already satisfied: fastapi>=0.95.2 in /Users/woojung/.pyenv/versions/3.10.17/envs/inflearn-llm-application/lib/python3.10/site-packages (from chromadb!=0.5.10,!=0.5.11,!=0.5.12,!=0.5.4,!=0.5.5,!=0.5.7,!=0.5.9,<0.7.0,>=0.4.0->langchain-chroma) (0.115.12)\n",
      "Requirement already satisfied: uvicorn>=0.18.3 in /Users/woojung/.pyenv/versions/3.10.17/envs/inflearn-llm-application/lib/python3.10/site-packages (from uvicorn[standard]>=0.18.3->chromadb!=0.5.10,!=0.5.11,!=0.5.12,!=0.5.4,!=0.5.5,!=0.5.7,!=0.5.9,<0.7.0,>=0.4.0->langchain-chroma) (0.34.2)\n",
      "Requirement already satisfied: posthog>=2.4.0 in /Users/woojung/.pyenv/versions/3.10.17/envs/inflearn-llm-application/lib/python3.10/site-packages (from chromadb!=0.5.10,!=0.5.11,!=0.5.12,!=0.5.4,!=0.5.5,!=0.5.7,!=0.5.9,<0.7.0,>=0.4.0->langchain-chroma) (4.0.1)\n",
      "Requirement already satisfied: typing_extensions>=4.5.0 in /Users/woojung/.pyenv/versions/3.10.17/envs/inflearn-llm-application/lib/python3.10/site-packages (from chromadb!=0.5.10,!=0.5.11,!=0.5.12,!=0.5.4,!=0.5.5,!=0.5.7,!=0.5.9,<0.7.0,>=0.4.0->langchain-chroma) (4.13.2)\n",
      "Requirement already satisfied: onnxruntime>=1.14.1 in /Users/woojung/.pyenv/versions/3.10.17/envs/inflearn-llm-application/lib/python3.10/site-packages (from chromadb!=0.5.10,!=0.5.11,!=0.5.12,!=0.5.4,!=0.5.5,!=0.5.7,!=0.5.9,<0.7.0,>=0.4.0->langchain-chroma) (1.21.1)\n",
      "Requirement already satisfied: opentelemetry-api>=1.2.0 in /Users/woojung/.pyenv/versions/3.10.17/envs/inflearn-llm-application/lib/python3.10/site-packages (from chromadb!=0.5.10,!=0.5.11,!=0.5.12,!=0.5.4,!=0.5.5,!=0.5.7,!=0.5.9,<0.7.0,>=0.4.0->langchain-chroma) (1.32.1)\n",
      "Requirement already satisfied: opentelemetry-exporter-otlp-proto-grpc>=1.2.0 in /Users/woojung/.pyenv/versions/3.10.17/envs/inflearn-llm-application/lib/python3.10/site-packages (from chromadb!=0.5.10,!=0.5.11,!=0.5.12,!=0.5.4,!=0.5.5,!=0.5.7,!=0.5.9,<0.7.0,>=0.4.0->langchain-chroma) (1.32.1)\n",
      "Requirement already satisfied: opentelemetry-instrumentation-fastapi>=0.41b0 in /Users/woojung/.pyenv/versions/3.10.17/envs/inflearn-llm-application/lib/python3.10/site-packages (from chromadb!=0.5.10,!=0.5.11,!=0.5.12,!=0.5.4,!=0.5.5,!=0.5.7,!=0.5.9,<0.7.0,>=0.4.0->langchain-chroma) (0.53b1)\n",
      "Requirement already satisfied: opentelemetry-sdk>=1.2.0 in /Users/woojung/.pyenv/versions/3.10.17/envs/inflearn-llm-application/lib/python3.10/site-packages (from chromadb!=0.5.10,!=0.5.11,!=0.5.12,!=0.5.4,!=0.5.5,!=0.5.7,!=0.5.9,<0.7.0,>=0.4.0->langchain-chroma) (1.32.1)\n",
      "Requirement already satisfied: tokenizers>=0.13.2 in /Users/woojung/.pyenv/versions/3.10.17/envs/inflearn-llm-application/lib/python3.10/site-packages (from chromadb!=0.5.10,!=0.5.11,!=0.5.12,!=0.5.4,!=0.5.5,!=0.5.7,!=0.5.9,<0.7.0,>=0.4.0->langchain-chroma) (0.21.1)\n",
      "Requirement already satisfied: pypika>=0.48.9 in /Users/woojung/.pyenv/versions/3.10.17/envs/inflearn-llm-application/lib/python3.10/site-packages (from chromadb!=0.5.10,!=0.5.11,!=0.5.12,!=0.5.4,!=0.5.5,!=0.5.7,!=0.5.9,<0.7.0,>=0.4.0->langchain-chroma) (0.48.9)\n",
      "Requirement already satisfied: tqdm>=4.65.0 in /Users/woojung/.pyenv/versions/3.10.17/envs/inflearn-llm-application/lib/python3.10/site-packages (from chromadb!=0.5.10,!=0.5.11,!=0.5.12,!=0.5.4,!=0.5.5,!=0.5.7,!=0.5.9,<0.7.0,>=0.4.0->langchain-chroma) (4.67.1)\n",
      "Requirement already satisfied: overrides>=7.3.1 in /Users/woojung/.pyenv/versions/3.10.17/envs/inflearn-llm-application/lib/python3.10/site-packages (from chromadb!=0.5.10,!=0.5.11,!=0.5.12,!=0.5.4,!=0.5.5,!=0.5.7,!=0.5.9,<0.7.0,>=0.4.0->langchain-chroma) (7.7.0)\n",
      "Requirement already satisfied: importlib-resources in /Users/woojung/.pyenv/versions/3.10.17/envs/inflearn-llm-application/lib/python3.10/site-packages (from chromadb!=0.5.10,!=0.5.11,!=0.5.12,!=0.5.4,!=0.5.5,!=0.5.7,!=0.5.9,<0.7.0,>=0.4.0->langchain-chroma) (6.5.2)\n",
      "Requirement already satisfied: grpcio>=1.58.0 in /Users/woojung/.pyenv/versions/3.10.17/envs/inflearn-llm-application/lib/python3.10/site-packages (from chromadb!=0.5.10,!=0.5.11,!=0.5.12,!=0.5.4,!=0.5.5,!=0.5.7,!=0.5.9,<0.7.0,>=0.4.0->langchain-chroma) (1.71.0)\n",
      "Requirement already satisfied: bcrypt>=4.0.1 in /Users/woojung/.pyenv/versions/3.10.17/envs/inflearn-llm-application/lib/python3.10/site-packages (from chromadb!=0.5.10,!=0.5.11,!=0.5.12,!=0.5.4,!=0.5.5,!=0.5.7,!=0.5.9,<0.7.0,>=0.4.0->langchain-chroma) (4.3.0)\n",
      "Requirement already satisfied: typer>=0.9.0 in /Users/woojung/.pyenv/versions/3.10.17/envs/inflearn-llm-application/lib/python3.10/site-packages (from chromadb!=0.5.10,!=0.5.11,!=0.5.12,!=0.5.4,!=0.5.5,!=0.5.7,!=0.5.9,<0.7.0,>=0.4.0->langchain-chroma) (0.15.3)\n",
      "Requirement already satisfied: kubernetes>=28.1.0 in /Users/woojung/.pyenv/versions/3.10.17/envs/inflearn-llm-application/lib/python3.10/site-packages (from chromadb!=0.5.10,!=0.5.11,!=0.5.12,!=0.5.4,!=0.5.5,!=0.5.7,!=0.5.9,<0.7.0,>=0.4.0->langchain-chroma) (32.0.1)\n",
      "Requirement already satisfied: tenacity>=8.2.3 in /Users/woojung/.pyenv/versions/3.10.17/envs/inflearn-llm-application/lib/python3.10/site-packages (from chromadb!=0.5.10,!=0.5.11,!=0.5.12,!=0.5.4,!=0.5.5,!=0.5.7,!=0.5.9,<0.7.0,>=0.4.0->langchain-chroma) (9.1.2)\n",
      "Requirement already satisfied: PyYAML>=6.0.0 in /Users/woojung/.pyenv/versions/3.10.17/envs/inflearn-llm-application/lib/python3.10/site-packages (from chromadb!=0.5.10,!=0.5.11,!=0.5.12,!=0.5.4,!=0.5.5,!=0.5.7,!=0.5.9,<0.7.0,>=0.4.0->langchain-chroma) (6.0.2)\n",
      "Requirement already satisfied: mmh3>=4.0.1 in /Users/woojung/.pyenv/versions/3.10.17/envs/inflearn-llm-application/lib/python3.10/site-packages (from chromadb!=0.5.10,!=0.5.11,!=0.5.12,!=0.5.4,!=0.5.5,!=0.5.7,!=0.5.9,<0.7.0,>=0.4.0->langchain-chroma) (5.1.0)\n",
      "Requirement already satisfied: orjson>=3.9.12 in /Users/woojung/.pyenv/versions/3.10.17/envs/inflearn-llm-application/lib/python3.10/site-packages (from chromadb!=0.5.10,!=0.5.11,!=0.5.12,!=0.5.4,!=0.5.5,!=0.5.7,!=0.5.9,<0.7.0,>=0.4.0->langchain-chroma) (3.10.18)\n",
      "Requirement already satisfied: httpx>=0.27.0 in /Users/woojung/.pyenv/versions/3.10.17/envs/inflearn-llm-application/lib/python3.10/site-packages (from chromadb!=0.5.10,!=0.5.11,!=0.5.12,!=0.5.4,!=0.5.5,!=0.5.7,!=0.5.9,<0.7.0,>=0.4.0->langchain-chroma) (0.28.1)\n",
      "Requirement already satisfied: rich>=10.11.0 in /Users/woojung/.pyenv/versions/3.10.17/envs/inflearn-llm-application/lib/python3.10/site-packages (from chromadb!=0.5.10,!=0.5.11,!=0.5.12,!=0.5.4,!=0.5.5,!=0.5.7,!=0.5.9,<0.7.0,>=0.4.0->langchain-chroma) (14.0.0)\n",
      "Requirement already satisfied: packaging>=19.1 in /Users/woojung/.pyenv/versions/3.10.17/envs/inflearn-llm-application/lib/python3.10/site-packages (from build>=1.0.3->chromadb!=0.5.10,!=0.5.11,!=0.5.12,!=0.5.4,!=0.5.5,!=0.5.7,!=0.5.9,<0.7.0,>=0.4.0->langchain-chroma) (24.2)\n",
      "Requirement already satisfied: pyproject_hooks in /Users/woojung/.pyenv/versions/3.10.17/envs/inflearn-llm-application/lib/python3.10/site-packages (from build>=1.0.3->chromadb!=0.5.10,!=0.5.11,!=0.5.12,!=0.5.4,!=0.5.5,!=0.5.7,!=0.5.9,<0.7.0,>=0.4.0->langchain-chroma) (1.2.0)\n",
      "Requirement already satisfied: tomli>=1.1.0 in /Users/woojung/.pyenv/versions/3.10.17/envs/inflearn-llm-application/lib/python3.10/site-packages (from build>=1.0.3->chromadb!=0.5.10,!=0.5.11,!=0.5.12,!=0.5.4,!=0.5.5,!=0.5.7,!=0.5.9,<0.7.0,>=0.4.0->langchain-chroma) (2.2.1)\n",
      "Requirement already satisfied: starlette<0.47.0,>=0.40.0 in /Users/woojung/.pyenv/versions/3.10.17/envs/inflearn-llm-application/lib/python3.10/site-packages (from fastapi>=0.95.2->chromadb!=0.5.10,!=0.5.11,!=0.5.12,!=0.5.4,!=0.5.5,!=0.5.7,!=0.5.9,<0.7.0,>=0.4.0->langchain-chroma) (0.46.2)\n",
      "Requirement already satisfied: annotated-types>=0.6.0 in /Users/woojung/.pyenv/versions/3.10.17/envs/inflearn-llm-application/lib/python3.10/site-packages (from pydantic>=1.9->chromadb!=0.5.10,!=0.5.11,!=0.5.12,!=0.5.4,!=0.5.5,!=0.5.7,!=0.5.9,<0.7.0,>=0.4.0->langchain-chroma) (0.7.0)\n",
      "Requirement already satisfied: pydantic-core==2.33.2 in /Users/woojung/.pyenv/versions/3.10.17/envs/inflearn-llm-application/lib/python3.10/site-packages (from pydantic>=1.9->chromadb!=0.5.10,!=0.5.11,!=0.5.12,!=0.5.4,!=0.5.5,!=0.5.7,!=0.5.9,<0.7.0,>=0.4.0->langchain-chroma) (2.33.2)\n",
      "Requirement already satisfied: typing-inspection>=0.4.0 in /Users/woojung/.pyenv/versions/3.10.17/envs/inflearn-llm-application/lib/python3.10/site-packages (from pydantic>=1.9->chromadb!=0.5.10,!=0.5.11,!=0.5.12,!=0.5.4,!=0.5.5,!=0.5.7,!=0.5.9,<0.7.0,>=0.4.0->langchain-chroma) (0.4.0)\n",
      "Requirement already satisfied: anyio<5,>=3.6.2 in /Users/woojung/.pyenv/versions/3.10.17/envs/inflearn-llm-application/lib/python3.10/site-packages (from starlette<0.47.0,>=0.40.0->fastapi>=0.95.2->chromadb!=0.5.10,!=0.5.11,!=0.5.12,!=0.5.4,!=0.5.5,!=0.5.7,!=0.5.9,<0.7.0,>=0.4.0->langchain-chroma) (4.9.0)\n",
      "Requirement already satisfied: exceptiongroup>=1.0.2 in /Users/woojung/.pyenv/versions/3.10.17/envs/inflearn-llm-application/lib/python3.10/site-packages (from anyio<5,>=3.6.2->starlette<0.47.0,>=0.40.0->fastapi>=0.95.2->chromadb!=0.5.10,!=0.5.11,!=0.5.12,!=0.5.4,!=0.5.5,!=0.5.7,!=0.5.9,<0.7.0,>=0.4.0->langchain-chroma) (1.2.2)\n",
      "Requirement already satisfied: idna>=2.8 in /Users/woojung/.pyenv/versions/3.10.17/envs/inflearn-llm-application/lib/python3.10/site-packages (from anyio<5,>=3.6.2->starlette<0.47.0,>=0.40.0->fastapi>=0.95.2->chromadb!=0.5.10,!=0.5.11,!=0.5.12,!=0.5.4,!=0.5.5,!=0.5.7,!=0.5.9,<0.7.0,>=0.4.0->langchain-chroma) (3.10)\n",
      "Requirement already satisfied: sniffio>=1.1 in /Users/woojung/.pyenv/versions/3.10.17/envs/inflearn-llm-application/lib/python3.10/site-packages (from anyio<5,>=3.6.2->starlette<0.47.0,>=0.40.0->fastapi>=0.95.2->chromadb!=0.5.10,!=0.5.11,!=0.5.12,!=0.5.4,!=0.5.5,!=0.5.7,!=0.5.9,<0.7.0,>=0.4.0->langchain-chroma) (1.3.1)\n",
      "Requirement already satisfied: certifi in /Users/woojung/.pyenv/versions/3.10.17/envs/inflearn-llm-application/lib/python3.10/site-packages (from httpx>=0.27.0->chromadb!=0.5.10,!=0.5.11,!=0.5.12,!=0.5.4,!=0.5.5,!=0.5.7,!=0.5.9,<0.7.0,>=0.4.0->langchain-chroma) (2025.4.26)\n",
      "Requirement already satisfied: httpcore==1.* in /Users/woojung/.pyenv/versions/3.10.17/envs/inflearn-llm-application/lib/python3.10/site-packages (from httpx>=0.27.0->chromadb!=0.5.10,!=0.5.11,!=0.5.12,!=0.5.4,!=0.5.5,!=0.5.7,!=0.5.9,<0.7.0,>=0.4.0->langchain-chroma) (1.0.9)\n",
      "Requirement already satisfied: h11>=0.16 in /Users/woojung/.pyenv/versions/3.10.17/envs/inflearn-llm-application/lib/python3.10/site-packages (from httpcore==1.*->httpx>=0.27.0->chromadb!=0.5.10,!=0.5.11,!=0.5.12,!=0.5.4,!=0.5.5,!=0.5.7,!=0.5.9,<0.7.0,>=0.4.0->langchain-chroma) (0.16.0)\n",
      "Requirement already satisfied: six>=1.9.0 in /Users/woojung/.pyenv/versions/3.10.17/envs/inflearn-llm-application/lib/python3.10/site-packages (from kubernetes>=28.1.0->chromadb!=0.5.10,!=0.5.11,!=0.5.12,!=0.5.4,!=0.5.5,!=0.5.7,!=0.5.9,<0.7.0,>=0.4.0->langchain-chroma) (1.17.0)\n",
      "Requirement already satisfied: python-dateutil>=2.5.3 in /Users/woojung/.pyenv/versions/3.10.17/envs/inflearn-llm-application/lib/python3.10/site-packages (from kubernetes>=28.1.0->chromadb!=0.5.10,!=0.5.11,!=0.5.12,!=0.5.4,!=0.5.5,!=0.5.7,!=0.5.9,<0.7.0,>=0.4.0->langchain-chroma) (2.9.0.post0)\n",
      "Requirement already satisfied: google-auth>=1.0.1 in /Users/woojung/.pyenv/versions/3.10.17/envs/inflearn-llm-application/lib/python3.10/site-packages (from kubernetes>=28.1.0->chromadb!=0.5.10,!=0.5.11,!=0.5.12,!=0.5.4,!=0.5.5,!=0.5.7,!=0.5.9,<0.7.0,>=0.4.0->langchain-chroma) (2.40.0)\n",
      "Requirement already satisfied: websocket-client!=0.40.0,!=0.41.*,!=0.42.*,>=0.32.0 in /Users/woojung/.pyenv/versions/3.10.17/envs/inflearn-llm-application/lib/python3.10/site-packages (from kubernetes>=28.1.0->chromadb!=0.5.10,!=0.5.11,!=0.5.12,!=0.5.4,!=0.5.5,!=0.5.7,!=0.5.9,<0.7.0,>=0.4.0->langchain-chroma) (1.8.0)\n",
      "Requirement already satisfied: requests in /Users/woojung/.pyenv/versions/3.10.17/envs/inflearn-llm-application/lib/python3.10/site-packages (from kubernetes>=28.1.0->chromadb!=0.5.10,!=0.5.11,!=0.5.12,!=0.5.4,!=0.5.5,!=0.5.7,!=0.5.9,<0.7.0,>=0.4.0->langchain-chroma) (2.32.3)\n",
      "Requirement already satisfied: requests-oauthlib in /Users/woojung/.pyenv/versions/3.10.17/envs/inflearn-llm-application/lib/python3.10/site-packages (from kubernetes>=28.1.0->chromadb!=0.5.10,!=0.5.11,!=0.5.12,!=0.5.4,!=0.5.5,!=0.5.7,!=0.5.9,<0.7.0,>=0.4.0->langchain-chroma) (2.0.0)\n",
      "Requirement already satisfied: oauthlib>=3.2.2 in /Users/woojung/.pyenv/versions/3.10.17/envs/inflearn-llm-application/lib/python3.10/site-packages (from kubernetes>=28.1.0->chromadb!=0.5.10,!=0.5.11,!=0.5.12,!=0.5.4,!=0.5.5,!=0.5.7,!=0.5.9,<0.7.0,>=0.4.0->langchain-chroma) (3.2.2)\n",
      "Requirement already satisfied: urllib3>=1.24.2 in /Users/woojung/.pyenv/versions/3.10.17/envs/inflearn-llm-application/lib/python3.10/site-packages (from kubernetes>=28.1.0->chromadb!=0.5.10,!=0.5.11,!=0.5.12,!=0.5.4,!=0.5.5,!=0.5.7,!=0.5.9,<0.7.0,>=0.4.0->langchain-chroma) (2.4.0)\n",
      "Requirement already satisfied: durationpy>=0.7 in /Users/woojung/.pyenv/versions/3.10.17/envs/inflearn-llm-application/lib/python3.10/site-packages (from kubernetes>=28.1.0->chromadb!=0.5.10,!=0.5.11,!=0.5.12,!=0.5.4,!=0.5.5,!=0.5.7,!=0.5.9,<0.7.0,>=0.4.0->langchain-chroma) (0.9)\n",
      "Requirement already satisfied: cachetools<6.0,>=2.0.0 in /Users/woojung/.pyenv/versions/3.10.17/envs/inflearn-llm-application/lib/python3.10/site-packages (from google-auth>=1.0.1->kubernetes>=28.1.0->chromadb!=0.5.10,!=0.5.11,!=0.5.12,!=0.5.4,!=0.5.5,!=0.5.7,!=0.5.9,<0.7.0,>=0.4.0->langchain-chroma) (5.5.2)\n",
      "Requirement already satisfied: pyasn1-modules>=0.2.1 in /Users/woojung/.pyenv/versions/3.10.17/envs/inflearn-llm-application/lib/python3.10/site-packages (from google-auth>=1.0.1->kubernetes>=28.1.0->chromadb!=0.5.10,!=0.5.11,!=0.5.12,!=0.5.4,!=0.5.5,!=0.5.7,!=0.5.9,<0.7.0,>=0.4.0->langchain-chroma) (0.4.2)\n",
      "Requirement already satisfied: rsa<5,>=3.1.4 in /Users/woojung/.pyenv/versions/3.10.17/envs/inflearn-llm-application/lib/python3.10/site-packages (from google-auth>=1.0.1->kubernetes>=28.1.0->chromadb!=0.5.10,!=0.5.11,!=0.5.12,!=0.5.4,!=0.5.5,!=0.5.7,!=0.5.9,<0.7.0,>=0.4.0->langchain-chroma) (4.9.1)\n",
      "Requirement already satisfied: pyasn1>=0.1.3 in /Users/woojung/.pyenv/versions/3.10.17/envs/inflearn-llm-application/lib/python3.10/site-packages (from rsa<5,>=3.1.4->google-auth>=1.0.1->kubernetes>=28.1.0->chromadb!=0.5.10,!=0.5.11,!=0.5.12,!=0.5.4,!=0.5.5,!=0.5.7,!=0.5.9,<0.7.0,>=0.4.0->langchain-chroma) (0.6.1)\n",
      "Requirement already satisfied: langsmith<0.4,>=0.1.126 in /Users/woojung/.pyenv/versions/3.10.17/envs/inflearn-llm-application/lib/python3.10/site-packages (from langchain-core>=0.3.52->langchain-chroma) (0.3.42)\n",
      "Requirement already satisfied: jsonpatch<2.0,>=1.33 in /Users/woojung/.pyenv/versions/3.10.17/envs/inflearn-llm-application/lib/python3.10/site-packages (from langchain-core>=0.3.52->langchain-chroma) (1.33)\n",
      "Requirement already satisfied: jsonpointer>=1.9 in /Users/woojung/.pyenv/versions/3.10.17/envs/inflearn-llm-application/lib/python3.10/site-packages (from jsonpatch<2.0,>=1.33->langchain-core>=0.3.52->langchain-chroma) (3.0.0)\n",
      "Requirement already satisfied: requests-toolbelt<2.0.0,>=1.0.0 in /Users/woojung/.pyenv/versions/3.10.17/envs/inflearn-llm-application/lib/python3.10/site-packages (from langsmith<0.4,>=0.1.126->langchain-core>=0.3.52->langchain-chroma) (1.0.0)\n",
      "Requirement already satisfied: zstandard<0.24.0,>=0.23.0 in /Users/woojung/.pyenv/versions/3.10.17/envs/inflearn-llm-application/lib/python3.10/site-packages (from langsmith<0.4,>=0.1.126->langchain-core>=0.3.52->langchain-chroma) (0.23.0)\n",
      "Requirement already satisfied: charset-normalizer<4,>=2 in /Users/woojung/.pyenv/versions/3.10.17/envs/inflearn-llm-application/lib/python3.10/site-packages (from requests->kubernetes>=28.1.0->chromadb!=0.5.10,!=0.5.11,!=0.5.12,!=0.5.4,!=0.5.5,!=0.5.7,!=0.5.9,<0.7.0,>=0.4.0->langchain-chroma) (3.4.2)\n",
      "Requirement already satisfied: coloredlogs in /Users/woojung/.pyenv/versions/3.10.17/envs/inflearn-llm-application/lib/python3.10/site-packages (from onnxruntime>=1.14.1->chromadb!=0.5.10,!=0.5.11,!=0.5.12,!=0.5.4,!=0.5.5,!=0.5.7,!=0.5.9,<0.7.0,>=0.4.0->langchain-chroma) (15.0.1)\n",
      "Requirement already satisfied: flatbuffers in /Users/woojung/.pyenv/versions/3.10.17/envs/inflearn-llm-application/lib/python3.10/site-packages (from onnxruntime>=1.14.1->chromadb!=0.5.10,!=0.5.11,!=0.5.12,!=0.5.4,!=0.5.5,!=0.5.7,!=0.5.9,<0.7.0,>=0.4.0->langchain-chroma) (25.2.10)\n",
      "Requirement already satisfied: protobuf in /Users/woojung/.pyenv/versions/3.10.17/envs/inflearn-llm-application/lib/python3.10/site-packages (from onnxruntime>=1.14.1->chromadb!=0.5.10,!=0.5.11,!=0.5.12,!=0.5.4,!=0.5.5,!=0.5.7,!=0.5.9,<0.7.0,>=0.4.0->langchain-chroma) (5.29.4)\n",
      "Requirement already satisfied: sympy in /Users/woojung/.pyenv/versions/3.10.17/envs/inflearn-llm-application/lib/python3.10/site-packages (from onnxruntime>=1.14.1->chromadb!=0.5.10,!=0.5.11,!=0.5.12,!=0.5.4,!=0.5.5,!=0.5.7,!=0.5.9,<0.7.0,>=0.4.0->langchain-chroma) (1.14.0)\n",
      "Requirement already satisfied: deprecated>=1.2.6 in /Users/woojung/.pyenv/versions/3.10.17/envs/inflearn-llm-application/lib/python3.10/site-packages (from opentelemetry-api>=1.2.0->chromadb!=0.5.10,!=0.5.11,!=0.5.12,!=0.5.4,!=0.5.5,!=0.5.7,!=0.5.9,<0.7.0,>=0.4.0->langchain-chroma) (1.2.18)\n",
      "Requirement already satisfied: importlib-metadata<8.7.0,>=6.0 in /Users/woojung/.pyenv/versions/3.10.17/envs/inflearn-llm-application/lib/python3.10/site-packages (from opentelemetry-api>=1.2.0->chromadb!=0.5.10,!=0.5.11,!=0.5.12,!=0.5.4,!=0.5.5,!=0.5.7,!=0.5.9,<0.7.0,>=0.4.0->langchain-chroma) (8.6.1)\n",
      "Requirement already satisfied: zipp>=3.20 in /Users/woojung/.pyenv/versions/3.10.17/envs/inflearn-llm-application/lib/python3.10/site-packages (from importlib-metadata<8.7.0,>=6.0->opentelemetry-api>=1.2.0->chromadb!=0.5.10,!=0.5.11,!=0.5.12,!=0.5.4,!=0.5.5,!=0.5.7,!=0.5.9,<0.7.0,>=0.4.0->langchain-chroma) (3.21.0)\n",
      "Requirement already satisfied: wrapt<2,>=1.10 in /Users/woojung/.pyenv/versions/3.10.17/envs/inflearn-llm-application/lib/python3.10/site-packages (from deprecated>=1.2.6->opentelemetry-api>=1.2.0->chromadb!=0.5.10,!=0.5.11,!=0.5.12,!=0.5.4,!=0.5.5,!=0.5.7,!=0.5.9,<0.7.0,>=0.4.0->langchain-chroma) (1.17.2)\n",
      "Requirement already satisfied: googleapis-common-protos~=1.52 in /Users/woojung/.pyenv/versions/3.10.17/envs/inflearn-llm-application/lib/python3.10/site-packages (from opentelemetry-exporter-otlp-proto-grpc>=1.2.0->chromadb!=0.5.10,!=0.5.11,!=0.5.12,!=0.5.4,!=0.5.5,!=0.5.7,!=0.5.9,<0.7.0,>=0.4.0->langchain-chroma) (1.70.0)\n",
      "Requirement already satisfied: opentelemetry-exporter-otlp-proto-common==1.32.1 in /Users/woojung/.pyenv/versions/3.10.17/envs/inflearn-llm-application/lib/python3.10/site-packages (from opentelemetry-exporter-otlp-proto-grpc>=1.2.0->chromadb!=0.5.10,!=0.5.11,!=0.5.12,!=0.5.4,!=0.5.5,!=0.5.7,!=0.5.9,<0.7.0,>=0.4.0->langchain-chroma) (1.32.1)\n",
      "Requirement already satisfied: opentelemetry-proto==1.32.1 in /Users/woojung/.pyenv/versions/3.10.17/envs/inflearn-llm-application/lib/python3.10/site-packages (from opentelemetry-exporter-otlp-proto-grpc>=1.2.0->chromadb!=0.5.10,!=0.5.11,!=0.5.12,!=0.5.4,!=0.5.5,!=0.5.7,!=0.5.9,<0.7.0,>=0.4.0->langchain-chroma) (1.32.1)\n",
      "Requirement already satisfied: opentelemetry-semantic-conventions==0.53b1 in /Users/woojung/.pyenv/versions/3.10.17/envs/inflearn-llm-application/lib/python3.10/site-packages (from opentelemetry-sdk>=1.2.0->chromadb!=0.5.10,!=0.5.11,!=0.5.12,!=0.5.4,!=0.5.5,!=0.5.7,!=0.5.9,<0.7.0,>=0.4.0->langchain-chroma) (0.53b1)\n",
      "Requirement already satisfied: opentelemetry-instrumentation-asgi==0.53b1 in /Users/woojung/.pyenv/versions/3.10.17/envs/inflearn-llm-application/lib/python3.10/site-packages (from opentelemetry-instrumentation-fastapi>=0.41b0->chromadb!=0.5.10,!=0.5.11,!=0.5.12,!=0.5.4,!=0.5.5,!=0.5.7,!=0.5.9,<0.7.0,>=0.4.0->langchain-chroma) (0.53b1)\n",
      "Requirement already satisfied: opentelemetry-instrumentation==0.53b1 in /Users/woojung/.pyenv/versions/3.10.17/envs/inflearn-llm-application/lib/python3.10/site-packages (from opentelemetry-instrumentation-fastapi>=0.41b0->chromadb!=0.5.10,!=0.5.11,!=0.5.12,!=0.5.4,!=0.5.5,!=0.5.7,!=0.5.9,<0.7.0,>=0.4.0->langchain-chroma) (0.53b1)\n",
      "Requirement already satisfied: opentelemetry-util-http==0.53b1 in /Users/woojung/.pyenv/versions/3.10.17/envs/inflearn-llm-application/lib/python3.10/site-packages (from opentelemetry-instrumentation-fastapi>=0.41b0->chromadb!=0.5.10,!=0.5.11,!=0.5.12,!=0.5.4,!=0.5.5,!=0.5.7,!=0.5.9,<0.7.0,>=0.4.0->langchain-chroma) (0.53b1)\n",
      "Requirement already satisfied: asgiref~=3.0 in /Users/woojung/.pyenv/versions/3.10.17/envs/inflearn-llm-application/lib/python3.10/site-packages (from opentelemetry-instrumentation-asgi==0.53b1->opentelemetry-instrumentation-fastapi>=0.41b0->chromadb!=0.5.10,!=0.5.11,!=0.5.12,!=0.5.4,!=0.5.5,!=0.5.7,!=0.5.9,<0.7.0,>=0.4.0->langchain-chroma) (3.8.1)\n",
      "Requirement already satisfied: backoff>=1.10.0 in /Users/woojung/.pyenv/versions/3.10.17/envs/inflearn-llm-application/lib/python3.10/site-packages (from posthog>=2.4.0->chromadb!=0.5.10,!=0.5.11,!=0.5.12,!=0.5.4,!=0.5.5,!=0.5.7,!=0.5.9,<0.7.0,>=0.4.0->langchain-chroma) (2.2.1)\n",
      "Requirement already satisfied: distro>=1.5.0 in /Users/woojung/.pyenv/versions/3.10.17/envs/inflearn-llm-application/lib/python3.10/site-packages (from posthog>=2.4.0->chromadb!=0.5.10,!=0.5.11,!=0.5.12,!=0.5.4,!=0.5.5,!=0.5.7,!=0.5.9,<0.7.0,>=0.4.0->langchain-chroma) (1.9.0)\n",
      "Requirement already satisfied: markdown-it-py>=2.2.0 in /Users/woojung/.pyenv/versions/3.10.17/envs/inflearn-llm-application/lib/python3.10/site-packages (from rich>=10.11.0->chromadb!=0.5.10,!=0.5.11,!=0.5.12,!=0.5.4,!=0.5.5,!=0.5.7,!=0.5.9,<0.7.0,>=0.4.0->langchain-chroma) (3.0.0)\n",
      "Requirement already satisfied: pygments<3.0.0,>=2.13.0 in /Users/woojung/.pyenv/versions/3.10.17/envs/inflearn-llm-application/lib/python3.10/site-packages (from rich>=10.11.0->chromadb!=0.5.10,!=0.5.11,!=0.5.12,!=0.5.4,!=0.5.5,!=0.5.7,!=0.5.9,<0.7.0,>=0.4.0->langchain-chroma) (2.19.1)\n",
      "Requirement already satisfied: mdurl~=0.1 in /Users/woojung/.pyenv/versions/3.10.17/envs/inflearn-llm-application/lib/python3.10/site-packages (from markdown-it-py>=2.2.0->rich>=10.11.0->chromadb!=0.5.10,!=0.5.11,!=0.5.12,!=0.5.4,!=0.5.5,!=0.5.7,!=0.5.9,<0.7.0,>=0.4.0->langchain-chroma) (0.1.2)\n",
      "Requirement already satisfied: huggingface-hub<1.0,>=0.16.4 in /Users/woojung/.pyenv/versions/3.10.17/envs/inflearn-llm-application/lib/python3.10/site-packages (from tokenizers>=0.13.2->chromadb!=0.5.10,!=0.5.11,!=0.5.12,!=0.5.4,!=0.5.5,!=0.5.7,!=0.5.9,<0.7.0,>=0.4.0->langchain-chroma) (0.30.2)\n",
      "Requirement already satisfied: filelock in /Users/woojung/.pyenv/versions/3.10.17/envs/inflearn-llm-application/lib/python3.10/site-packages (from huggingface-hub<1.0,>=0.16.4->tokenizers>=0.13.2->chromadb!=0.5.10,!=0.5.11,!=0.5.12,!=0.5.4,!=0.5.5,!=0.5.7,!=0.5.9,<0.7.0,>=0.4.0->langchain-chroma) (3.18.0)\n",
      "Requirement already satisfied: fsspec>=2023.5.0 in /Users/woojung/.pyenv/versions/3.10.17/envs/inflearn-llm-application/lib/python3.10/site-packages (from huggingface-hub<1.0,>=0.16.4->tokenizers>=0.13.2->chromadb!=0.5.10,!=0.5.11,!=0.5.12,!=0.5.4,!=0.5.5,!=0.5.7,!=0.5.9,<0.7.0,>=0.4.0->langchain-chroma) (2025.3.2)\n",
      "Requirement already satisfied: click>=8.0.0 in /Users/woojung/.pyenv/versions/3.10.17/envs/inflearn-llm-application/lib/python3.10/site-packages (from typer>=0.9.0->chromadb!=0.5.10,!=0.5.11,!=0.5.12,!=0.5.4,!=0.5.5,!=0.5.7,!=0.5.9,<0.7.0,>=0.4.0->langchain-chroma) (8.1.8)\n",
      "Requirement already satisfied: shellingham>=1.3.0 in /Users/woojung/.pyenv/versions/3.10.17/envs/inflearn-llm-application/lib/python3.10/site-packages (from typer>=0.9.0->chromadb!=0.5.10,!=0.5.11,!=0.5.12,!=0.5.4,!=0.5.5,!=0.5.7,!=0.5.9,<0.7.0,>=0.4.0->langchain-chroma) (1.5.4)\n",
      "Requirement already satisfied: httptools>=0.6.3 in /Users/woojung/.pyenv/versions/3.10.17/envs/inflearn-llm-application/lib/python3.10/site-packages (from uvicorn[standard]>=0.18.3->chromadb!=0.5.10,!=0.5.11,!=0.5.12,!=0.5.4,!=0.5.5,!=0.5.7,!=0.5.9,<0.7.0,>=0.4.0->langchain-chroma) (0.6.4)\n",
      "Requirement already satisfied: python-dotenv>=0.13 in /Users/woojung/.pyenv/versions/3.10.17/envs/inflearn-llm-application/lib/python3.10/site-packages (from uvicorn[standard]>=0.18.3->chromadb!=0.5.10,!=0.5.11,!=0.5.12,!=0.5.4,!=0.5.5,!=0.5.7,!=0.5.9,<0.7.0,>=0.4.0->langchain-chroma) (1.1.0)\n",
      "Requirement already satisfied: uvloop!=0.15.0,!=0.15.1,>=0.14.0 in /Users/woojung/.pyenv/versions/3.10.17/envs/inflearn-llm-application/lib/python3.10/site-packages (from uvicorn[standard]>=0.18.3->chromadb!=0.5.10,!=0.5.11,!=0.5.12,!=0.5.4,!=0.5.5,!=0.5.7,!=0.5.9,<0.7.0,>=0.4.0->langchain-chroma) (0.21.0)\n",
      "Requirement already satisfied: watchfiles>=0.13 in /Users/woojung/.pyenv/versions/3.10.17/envs/inflearn-llm-application/lib/python3.10/site-packages (from uvicorn[standard]>=0.18.3->chromadb!=0.5.10,!=0.5.11,!=0.5.12,!=0.5.4,!=0.5.5,!=0.5.7,!=0.5.9,<0.7.0,>=0.4.0->langchain-chroma) (1.0.5)\n",
      "Requirement already satisfied: websockets>=10.4 in /Users/woojung/.pyenv/versions/3.10.17/envs/inflearn-llm-application/lib/python3.10/site-packages (from uvicorn[standard]>=0.18.3->chromadb!=0.5.10,!=0.5.11,!=0.5.12,!=0.5.4,!=0.5.5,!=0.5.7,!=0.5.9,<0.7.0,>=0.4.0->langchain-chroma) (15.0.1)\n",
      "Requirement already satisfied: humanfriendly>=9.1 in /Users/woojung/.pyenv/versions/3.10.17/envs/inflearn-llm-application/lib/python3.10/site-packages (from coloredlogs->onnxruntime>=1.14.1->chromadb!=0.5.10,!=0.5.11,!=0.5.12,!=0.5.4,!=0.5.5,!=0.5.7,!=0.5.9,<0.7.0,>=0.4.0->langchain-chroma) (10.0)\n",
      "Requirement already satisfied: mpmath<1.4,>=1.1.0 in /Users/woojung/.pyenv/versions/3.10.17/envs/inflearn-llm-application/lib/python3.10/site-packages (from sympy->onnxruntime>=1.14.1->chromadb!=0.5.10,!=0.5.11,!=0.5.12,!=0.5.4,!=0.5.5,!=0.5.7,!=0.5.9,<0.7.0,>=0.4.0->langchain-chroma) (1.3.0)\n",
      "Note: you may need to restart the kernel to use updated packages.\n"
     ]
    }
   ],
   "source": [
    "%pip install --upgrade --quiet  docx2txt\n",
    "%pip install --upgrade --quiet  docx2txt langchain-community\n",
    "%pip install -qU langchain-text-splitters\n",
    "%pip install langchain-chroma"
   ]
  },
  {
   "cell_type": "markdown",
   "metadata": {},
   "source": [
    "# 2. Knowledge Base 구성을 위한 데이터 생성\n",
    "\n",
    "- [3.4 LangChain을 활용한 Vector Database 변경 (Chroma ➡️ Pinecone)](https://github.com/jasonkang14/inflearn-rag-notebook/blob/main/3.4%20LangChain%EC%9D%84%20%ED%99%9C%EC%9A%A9%ED%95%9C%20Vector%20Database%20%EB%B3%80%EA%B2%BD%20(Chroma%20%E2%9E%A1%EF%B8%8F%20Pinecone).ipynb)와 동일함\n",
    "\n",
    "1. 문서의 내용을 읽는다.\n",
    "\n",
    "2. 문서를 쪼갠다.\n",
    "- 토큰수 초과로 답변을 생성하지 못할 수 있고\n",
    "- input 문서가 길면 답변 생성이 오래 걸림"
   ]
  },
  {
   "cell_type": "code",
   "execution_count": 83,
   "metadata": {},
   "outputs": [],
   "source": [
    "from langchain_community.document_loaders import Docx2txtLoader\n",
    "from langchain_text_splitters import RecursiveCharacterTextSplitter\n",
    "\n",
    "text_splitter = RecursiveCharacterTextSplitter(\n",
    "    chunk_size = 500,\n",
    "    chunk_overlap = 200,\n",
    ")\n",
    "\n",
    "loader = Docx2txtLoader('./docs/tax_with_table.docx')\n",
    "document_list = loader.load_and_split(text_splitter=text_splitter)"
   ]
  },
  {
   "cell_type": "markdown",
   "metadata": {},
   "source": []
  },
  {
   "cell_type": "code",
   "execution_count": 84,
   "metadata": {},
   "outputs": [
    {
     "data": {
      "text/plain": [
       "915"
      ]
     },
     "execution_count": 84,
     "metadata": {},
     "output_type": "execute_result"
    }
   ],
   "source": [
    "len(document_list)"
   ]
  },
  {
   "cell_type": "markdown",
   "metadata": {},
   "source": [
    "### 3. 임베딩 -> 벡터데이터베이스에 저장"
   ]
  },
  {
   "cell_type": "code",
   "execution_count": 105,
   "metadata": {},
   "outputs": [],
   "source": [
    "from dotenv import load_dotenv\n",
    "from langchain_openai import OpenAIEmbeddings\n",
    "\n",
    "load_dotenv()\n",
    "\n",
    "embedding = OpenAIEmbeddings(\n",
    "    model='text-embedding-3-small',\n",
    "    chunk_size=500\n",
    "    )"
   ]
  },
  {
   "cell_type": "markdown",
   "metadata": {},
   "source": [
    "## Chroma -> PineCone으로 벡터 데이터베이스 변경해보기\n",
    "* LangChain 활용 시 벡터 데이터베이스 변경하는 작업이 엄청나게 간단해짐!"
   ]
  },
  {
   "cell_type": "code",
   "execution_count": 86,
   "metadata": {},
   "outputs": [
    {
     "name": "stdout",
     "output_type": "stream",
     "text": [
      "\u001b[33mWARNING: pinecone 6.0.2 does not provide the extra 'async'\u001b[0m\u001b[33m\n",
      "\u001b[0mNote: you may need to restart the kernel to use updated packages.\n",
      "Requirement already satisfied: pinecone-client in /Users/woojung/.pyenv/versions/3.10.17/envs/inflearn-llm-application/lib/python3.10/site-packages (6.0.0)\n",
      "Requirement already satisfied: certifi>=2019.11.17 in /Users/woojung/.pyenv/versions/3.10.17/envs/inflearn-llm-application/lib/python3.10/site-packages (from pinecone-client) (2025.4.26)\n",
      "Requirement already satisfied: pinecone-plugin-interface<0.0.8,>=0.0.7 in /Users/woojung/.pyenv/versions/3.10.17/envs/inflearn-llm-application/lib/python3.10/site-packages (from pinecone-client) (0.0.7)\n",
      "Requirement already satisfied: python-dateutil>=2.5.3 in /Users/woojung/.pyenv/versions/3.10.17/envs/inflearn-llm-application/lib/python3.10/site-packages (from pinecone-client) (2.9.0.post0)\n",
      "Requirement already satisfied: typing-extensions>=3.7.4 in /Users/woojung/.pyenv/versions/3.10.17/envs/inflearn-llm-application/lib/python3.10/site-packages (from pinecone-client) (4.13.2)\n",
      "Requirement already satisfied: urllib3>=1.26.0 in /Users/woojung/.pyenv/versions/3.10.17/envs/inflearn-llm-application/lib/python3.10/site-packages (from pinecone-client) (2.4.0)\n",
      "Requirement already satisfied: six>=1.5 in /Users/woojung/.pyenv/versions/3.10.17/envs/inflearn-llm-application/lib/python3.10/site-packages (from python-dateutil>=2.5.3->pinecone-client) (1.17.0)\n",
      "Note: you may need to restart the kernel to use updated packages.\n"
     ]
    }
   ],
   "source": [
    "%pip install --upgrade --quiet langchain-pinecone langchain-openai langchain\n",
    "%pip install pinecone-client"
   ]
  },
  {
   "cell_type": "code",
   "execution_count": 106,
   "metadata": {},
   "outputs": [
    {
     "name": "stderr",
     "output_type": "stream",
     "text": [
      "100%|██████████| 92/92 [01:48<00:00,  1.18s/it]\n"
     ]
    }
   ],
   "source": [
    "import os\n",
    "from pinecone import Pinecone\n",
    "from langchain_pinecone import PineconeVectorStore\n",
    "from tqdm import tqdm\n",
    "\n",
    "pinecone_api_key = os.environ.get(\"PINECONE_API_KEY\")\n",
    "pc = Pinecone(api_key=pinecone_api_key)\n",
    "\n",
    "index_name = pc.Index(\"tax-index-small\")\n",
    "\n",
    "\n",
    "# 벡터스토어 객체 준비\n",
    "database = PineconeVectorStore(\n",
    "    index=index_name,\n",
    "    embedding=embedding,\n",
    "    text_key=\"text\"\n",
    ")\n",
    "\n",
    "# ✅ 안전한 소량 업로드\n",
    "batch_size = 10  # 또는 5~20 사이에서 조정\n",
    "\n",
    "for i in tqdm(range(0, len(document_list), batch_size)):\n",
    "    batch = document_list[i:i+batch_size]\n",
    "    texts = [doc.page_content for doc in batch]\n",
    "    metadatas = [doc.metadata for doc in batch]\n",
    "    try:\n",
    "        database.add_texts(texts=texts, metadatas=metadatas)\n",
    "    except Exception as e:\n",
    "        print(f\"❌ Batch {i}-{i+batch_size} 업로드 실패: {e}\")"
   ]
  },
  {
   "cell_type": "code",
   "execution_count": 107,
   "metadata": {},
   "outputs": [
    {
     "data": {
      "text/plain": [
       "[Document(id='fbeff489-2d1f-42f6-85e9-265fcf76bb1d', metadata={'source': './docs/tax_with_table.docx'}, page_content='제6관 종합소득공제 <개정 2009. 12. 31.>\\n\\n\\n\\n제50조(기본공제) ① 종합소득이 있는 거주자(자연인만 해당한다)에 대해서는 다음 각 호의 어느 하나에 해당하는 사람의 수에 1명당 연 150만원을 곱하여 계산한 금액을 그 거주자의 해당 과세기간의 종합소득금액에서 공제한다. <개정 2015. 12. 15.>\\n\\n1. 해당 거주자\\n\\n2. 거주자의 배우자로서 해당 과세기간의 소득금액이 없거나 해당 과세기간의 소득금액 합계액이 100만원 이하인 사람(총급여액 500만원 이하의 근로소득만 있는 배우자를 포함한다)\\n\\n3. 거주자(그 배우자를 포함한다. 이하 이 호에서 같다)와 생계를 같이 하는 다음 각 목의 어느 하나에 해당하는 부양가족(제51조제1항제2호의 장애인에 해당되는 경우에는 나이의 제한을 받지 아니한다)으로서 해당 과세기간의 소득금액 합계액이 100만원 이하인 사람(총급여액 500만원 이하의 근로소득만 있는 부양가족을 포함한다)'),\n",
       " Document(id='8638a6c2-7844-42e4-afc3-27611f539860', metadata={'source': './docs/tax_with_table.docx'}, page_content='제6관 종합소득공제 <개정 2009. 12. 31.>\\n\\n\\n\\n제50조(기본공제) ① 종합소득이 있는 거주자(자연인만 해당한다)에 대해서는 다음 각 호의 어느 하나에 해당하는 사람의 수에 1명당 연 150만원을 곱하여 계산한 금액을 그 거주자의 해당 과세기간의 종합소득금액에서 공제한다. <개정 2015. 12. 15.>\\n\\n1. 해당 거주자\\n\\n2. 거주자의 배우자로서 해당 과세기간의 소득금액이 없거나 해당 과세기간의 소득금액 합계액이 100만원 이하인 사람(총급여액 500만원 이하의 근로소득만 있는 배우자를 포함한다)\\n\\n3. 거주자(그 배우자를 포함한다. 이하 이 호에서 같다)와 생계를 같이 하는 다음 각 목의 어느 하나에 해당하는 부양가족(제51조제1항제2호의 장애인에 해당되는 경우에는 나이의 제한을 받지 아니한다)으로서 해당 과세기간의 소득금액 합계액이 100만원 이하인 사람(총급여액 500만원 이하의 근로소득만 있는 부양가족을 포함한다)'),\n",
       " Document(id='ca577a3b-db58-434d-ab77-d726938bac46', metadata={'source': './docs/tax_with_table.docx'}, page_content='제6관 종합소득공제 <개정 2009. 12. 31.>\\n\\n\\n\\n제50조(기본공제) ① 종합소득이 있는 거주자(자연인만 해당한다)에 대해서는 다음 각 호의 어느 하나에 해당하는 사람의 수에 1명당 연 150만원을 곱하여 계산한 금액을 그 거주자의 해당 과세기간의 종합소득금액에서 공제한다. <개정 2015. 12. 15.>\\n\\n1. 해당 거주자\\n\\n2. 거주자의 배우자로서 해당 과세기간의 소득금액이 없거나 해당 과세기간의 소득금액 합계액이 100만원 이하인 사람(총급여액 500만원 이하의 근로소득만 있는 배우자를 포함한다)\\n\\n3. 거주자(그 배우자를 포함한다. 이하 이 호에서 같다)와 생계를 같이 하는 다음 각 목의 어느 하나에 해당하는 부양가족(제51조제1항제2호의 장애인에 해당되는 경우에는 나이의 제한을 받지 아니한다)으로서 해당 과세기간의 소득금액 합계액이 100만원 이하인 사람(총급여액 500만원 이하의 근로소득만 있는 부양가족을 포함한다)'),\n",
       " Document(id='8944d20e-a88a-4bfc-9111-7745862a385e', metadata={'source': './docs/tax_with_table.docx'}, page_content='3,706만원 + (1억5천만원을 초과하는 금액의 38퍼센트)\\n\\n3억원 초과 5억원 이하\\n\\n9,406만원 + (3억원을 초과하는 금액의 40퍼센트)\\n\\n5억원 초과 10억원 이하\\n\\n1억7,406만원 + (5억원을 초과하는 금액의 42퍼센트)\\n\\n10억원 초과\\n\\n3억8,406만원 + (10억원을 초과하는 금액의 45퍼센트)\\n\\n\\n\\n\\n\\n② 거주자의 퇴직소득에 대한 소득세는 다음 각 호의 순서에 따라 계산한 금액(이하 “퇴직소득 산출세액”이라 한다)으로 한다.<개정 2013. 1. 1., 2014. 12. 23.>\\n\\n1. 해당 과세기간의 퇴직소득과세표준에 제1항의 세율을 적용하여 계산한 금액\\n\\n2. 제1호의 금액을 12로 나눈 금액에 근속연수를 곱한 금액\\n\\n3. 삭제<2014. 12. 23.>\\n\\n[전문개정 2009. 12. 31.]\\n\\n\\n\\n제2관 세액공제 <개정 2009. 12. 31.>')]"
      ]
     },
     "execution_count": 107,
     "metadata": {},
     "output_type": "execute_result"
    }
   ],
   "source": [
    "query = '연봉 5천만원인 거주자의 종합소득세는?'\n",
    "retriever = database.as_retriever(search_kwargs={'k': 4})\n",
    "retriever.invoke(query)"
   ]
  },
  {
   "cell_type": "markdown",
   "metadata": {},
   "source": [
    "# 4. Augmentation을 위한 Prompt 활용\n",
    "\n",
    "- Retrieval된 데이터는 LangChain에서 제공하는 프롬프트(`\"rlm/rag-prompt\"`) 사용"
   ]
  },
  {
   "cell_type": "code",
   "execution_count": 108,
   "metadata": {},
   "outputs": [
    {
     "name": "stderr",
     "output_type": "stream",
     "text": [
      "/Users/woojung/.pyenv/versions/3.10.17/envs/inflearn-llm-application/lib/python3.10/site-packages/langsmith/client.py:272: LangSmithMissingAPIKeyWarning: API key must be provided when using hosted LangSmith API\n",
      "  warnings.warn(\n"
     ]
    }
   ],
   "source": [
    "from langchain import hub\n",
    "\n",
    "prompt = hub.pull(\"rlm/rag-prompt\")"
   ]
  },
  {
   "cell_type": "markdown",
   "metadata": {},
   "source": [
    "# 5. 답변 생성\n",
    "\n",
    "- [RetrievalQA](https://docs.smith.langchain.com/old/cookbook/hub-examples/retrieval-qa-chain)를 통해 LLM에 전달\n",
    "    - `RetrievalQA`는 [create_retrieval_chain](https://python.langchain.com/v0.2/docs/how_to/qa_sources/#using-create_retrieval_chain)으로 대체됨\n",
    "    - 실제 ChatBot 구현 시 `create_retrieval_chain`으로 변경하는 과정을 볼 수 있음\n",
    "- 하단의 `dictionary_chain` 과 연계하여 사용"
   ]
  },
  {
   "cell_type": "code",
   "execution_count": 110,
   "metadata": {},
   "outputs": [],
   "source": [
    "\n",
    "from langchain_openai import ChatOpenAI\n",
    "\n",
    "llm = ChatOpenAI(model='gpt-4o')"
   ]
  },
  {
   "cell_type": "code",
   "execution_count": 111,
   "metadata": {},
   "outputs": [],
   "source": [
    "from langchain.chains import RetrievalQA\n",
    "\n",
    "\n",
    "qa_chain = RetrievalQA.from_chain_type(\n",
    "    llm, \n",
    "    retriever=retriever,\n",
    "    chain_type_kwargs={\"prompt\": prompt}\n",
    ")"
   ]
  },
  {
   "cell_type": "code",
   "execution_count": 112,
   "metadata": {},
   "outputs": [
    {
     "data": {
      "text/plain": [
       "{'query': '연봉 5천만원인 거주자의 종합소득세는?',\n",
       " 'result': '죄송하지만, 연봉 5천만원인 거주자의 종합소득세를 계산하기 위한 충분한 세율과 공제 정보가 제공되지 않았습니다. 구체적인 소득세율과 공제 사항을 바탕으로 계산해야 하며, 이에 대한 정보는 주어진 문맥에 포함되어 있지 않습니다. 추가적인 세율표와 공제 기준을 확인해야 정확한 답변이 가능합니다.'}"
      ]
     },
     "execution_count": 112,
     "metadata": {},
     "output_type": "execute_result"
    }
   ],
   "source": [
    "ai_message = qa_chain.invoke({\"query\": query})\n",
    "ai_message"
   ]
  },
  {
   "cell_type": "markdown",
   "metadata": {},
   "source": [
    "langchain hub: 제공되는 prompt를 쓰기 용이함"
   ]
  },
  {
   "cell_type": "code",
   "execution_count": 94,
   "metadata": {},
   "outputs": [
    {
     "name": "stdout",
     "output_type": "stream",
     "text": [
      "Note: you may need to restart the kernel to use updated packages.\n"
     ]
    }
   ],
   "source": [
    "%pip install -U langchain langchainhub --quiet"
   ]
  },
  {
   "cell_type": "code",
   "execution_count": 95,
   "metadata": {},
   "outputs": [
    {
     "name": "stderr",
     "output_type": "stream",
     "text": [
      "/Users/woojung/.pyenv/versions/3.10.17/envs/inflearn-llm-application/lib/python3.10/site-packages/langsmith/client.py:272: LangSmithMissingAPIKeyWarning: API key must be provided when using hosted LangSmith API\n",
      "  warnings.warn(\n"
     ]
    }
   ],
   "source": [
    "from langchain import hub\n",
    "\n",
    "prompt = hub.pull(\"rlm/rag-prompt\")"
   ]
  },
  {
   "cell_type": "code",
   "execution_count": 96,
   "metadata": {},
   "outputs": [
    {
     "data": {
      "text/plain": [
       "ChatPromptTemplate(input_variables=['context', 'question'], input_types={}, partial_variables={}, metadata={'lc_hub_owner': 'rlm', 'lc_hub_repo': 'rag-prompt', 'lc_hub_commit_hash': '50442af133e61576e74536c6556cefe1fac147cad032f4377b60c436e6cdcb6e'}, messages=[HumanMessagePromptTemplate(prompt=PromptTemplate(input_variables=['context', 'question'], input_types={}, partial_variables={}, template=\"You are an assistant for question-answering tasks. Use the following pieces of retrieved context to answer the question. If you don't know the answer, just say that you don't know. Use three sentences maximum and keep the answer concise.\\nQuestion: {question} \\nContext: {context} \\nAnswer:\"), additional_kwargs={})])"
      ]
     },
     "execution_count": 96,
     "metadata": {},
     "output_type": "execute_result"
    }
   ],
   "source": [
    "prompt"
   ]
  },
  {
   "cell_type": "code",
   "execution_count": 97,
   "metadata": {},
   "outputs": [],
   "source": [
    "from langchain.chains import RetrievalQA\n",
    "\n",
    "qa_chain = RetrievalQA.from_chain_type(\n",
    "    llm,\n",
    "    retriever = database.as_retriever(),\n",
    "    chain_type_kwargs = {\"prompt\": prompt}\n",
    ")"
   ]
  },
  {
   "cell_type": "code",
   "execution_count": 98,
   "metadata": {},
   "outputs": [
    {
     "name": "stderr",
     "output_type": "stream",
     "text": [
      "/var/folders/jf/33cgwln56pl8ksd6k07kdwsr0000gn/T/ipykernel_6393/3455095564.py:1: LangChainDeprecationWarning: The method `Chain.__call__` was deprecated in langchain 0.1.0 and will be removed in 1.0. Use :meth:`~invoke` instead.\n",
      "  ai_message = qa_chain({\"query\": query})\n"
     ]
    }
   ],
   "source": [
    "ai_message = qa_chain({\"query\": query})"
   ]
  },
  {
   "cell_type": "code",
   "execution_count": 99,
   "metadata": {},
   "outputs": [
    {
     "data": {
      "text/plain": [
       "{'query': '연봉 5천만원인 거주자의 종합소득세는?',\n",
       " 'result': '죄송하지만 제시된 문맥에서는 연봉 5천만 원인 거주자의 종합소득세를 정확히 계산할 수 있는 정보가 없습니다. 종합소득세는 과세표준에 따른 세율 및 공제를 고려하여 구체적으로 계산되어야 합니다. 자세한 소득세 계산은 국세청 등의 공식 자료나 전문가의 상담을 통해 확인하는 것이 좋습니다.'}"
      ]
     },
     "execution_count": 99,
     "metadata": {},
     "output_type": "execute_result"
    }
   ],
   "source": [
    "ai_message"
   ]
  },
  {
   "cell_type": "markdown",
   "metadata": {},
   "source": [
    "# 6. Retrieval을 위한 keyword 사전 활용\n",
    "\n",
    "- Knowledge Base에서 사용되는 keyword를 활용하여 사용자 질문 수정\n",
    "- LangChain Expression Language (LCEL)을 활용한 Chain 연계"
   ]
  },
  {
   "cell_type": "code",
   "execution_count": 113,
   "metadata": {},
   "outputs": [],
   "source": [
    "from langchain_core.output_parsers import StrOutputParser\n",
    "from langchain_core.prompts import ChatPromptTemplate\n",
    "\n",
    "dictionary = [\"사람을 나타내는 표현 -> 거주자\"]\n",
    "\n",
    "prompt = ChatPromptTemplate.from_template(f\"\"\"\n",
    "    사용자의 질문을 보고, 우리의 사전을 참고해서 사용자의 질문을 변경해주세요.\n",
    "    만약 변경할 필요가 없다고 판단된다면, 사용자의 질문을 변경하지 않아도 됩니다.\n",
    "    그런 경우에는 질문만 리턴해주세요\n",
    "    사전: {dictionary}\n",
    "    \n",
    "    질문: {{question}}\n",
    "\"\"\")\n",
    "\n",
    "dictionary_chain = prompt | llm | StrOutputParser()\n",
    "tax_chain = {\"query\": dictionary_chain} | qa_chain"
   ]
  },
  {
   "cell_type": "code",
   "execution_count": 115,
   "metadata": {},
   "outputs": [],
   "source": [
    "new_question = dictionary_chain.invoke({\"question\": query})"
   ]
  },
  {
   "cell_type": "code",
   "execution_count": 117,
   "metadata": {},
   "outputs": [],
   "source": [
    "ai_response = tax_chain.invoke({\"question\": query})"
   ]
  },
  {
   "cell_type": "code",
   "execution_count": 118,
   "metadata": {},
   "outputs": [
    {
     "data": {
      "text/plain": [
       "{'query': '연봉 5천만원인 거주자의 종합소득세는?',\n",
       " 'result': \"I don't know. The provided context does not include specific information regarding the calculation of comprehensive income tax for a resident with an annual income of 50 million won.\"}"
      ]
     },
     "execution_count": 118,
     "metadata": {},
     "output_type": "execute_result"
    }
   ],
   "source": [
    "ai_response"
   ]
  },
  {
   "cell_type": "code",
   "execution_count": null,
   "metadata": {},
   "outputs": [],
   "source": []
  }
 ],
 "metadata": {
  "kernelspec": {
   "display_name": "inflearn-llm-application",
   "language": "python",
   "name": "python3"
  },
  "language_info": {
   "codemirror_mode": {
    "name": "ipython",
    "version": 3
   },
   "file_extension": ".py",
   "mimetype": "text/x-python",
   "name": "python",
   "nbconvert_exporter": "python",
   "pygments_lexer": "ipython3",
   "version": "3.10.17"
  }
 },
 "nbformat": 4,
 "nbformat_minor": 2
}
